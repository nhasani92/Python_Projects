{
  "nbformat": 4,
  "nbformat_minor": 0,
  "metadata": {
    "colab": {
      "provenance": [],
      "authorship_tag": "ABX9TyOJgHIqMj5EzbU3ch91yydL",
      "include_colab_link": true
    },
    "kernelspec": {
      "name": "python3",
      "display_name": "Python 3"
    },
    "language_info": {
      "name": "python"
    }
  },
  "cells": [
    {
      "cell_type": "markdown",
      "metadata": {
        "id": "view-in-github",
        "colab_type": "text"
      },
      "source": [
        "<a href=\"https://colab.research.google.com/github/nhasani92/Python_Projects/blob/main/Day_4.ipynb\" target=\"_parent\"><img src=\"https://colab.research.google.com/assets/colab-badge.svg\" alt=\"Open In Colab\"/></a>"
      ]
    },
    {
      "cell_type": "markdown",
      "source": [
        "## Random Number"
      ],
      "metadata": {
        "id": "NKI5qfu0G_M1"
      }
    },
    {
      "cell_type": "code",
      "source": [
        "import random\n",
        "random_integer = random.randint(1, 10)\n",
        "print(random_integer)"
      ],
      "metadata": {
        "colab": {
          "base_uri": "https://localhost:8080/"
        },
        "id": "GLhZi9vUG4ME",
        "outputId": "73d8d4c6-854f-47f8-d50a-9846f615439d"
      },
      "execution_count": 2,
      "outputs": [
        {
          "output_type": "stream",
          "name": "stdout",
          "text": [
            "7\n"
          ]
        }
      ]
    },
    {
      "cell_type": "code",
      "source": [
        "import random\n",
        "random_integer = random.randint(1, 10)\n",
        "print(random_integer)\n",
        "\n",
        "random_float = random.random() * 5\n",
        "print(random_float)\n",
        "\n",
        "love_score = random.randint(1, 100)\n",
        "print(f\"Your love score{love_score}\")"
      ],
      "metadata": {
        "colab": {
          "base_uri": "https://localhost:8080/"
        },
        "id": "fxgNs2SlHGr_",
        "outputId": "0d848a68-f5da-433c-b459-33b6c503ebf7"
      },
      "execution_count": 6,
      "outputs": [
        {
          "output_type": "stream",
          "name": "stdout",
          "text": [
            "5\n",
            "2.8593019412849325\n",
            "Your love score18\n"
          ]
        }
      ]
    },
    {
      "cell_type": "markdown",
      "source": [
        "### Head or Tail"
      ],
      "metadata": {
        "id": "ddnFOQ79L4Zl"
      }
    },
    {
      "cell_type": "code",
      "source": [
        "import random\n",
        "\n",
        "random_side = random.randint(0, 1)\n",
        "if random_side == 1:\n",
        "  print(\"Heads\")\n",
        "else:\n",
        "  print(\"Tails\")"
      ],
      "metadata": {
        "colab": {
          "base_uri": "https://localhost:8080/"
        },
        "id": "DFTTDDjTL9wt",
        "outputId": "c84959b1-912a-4ccd-971c-a44201f2cf04"
      },
      "execution_count": 9,
      "outputs": [
        {
          "output_type": "stream",
          "name": "stdout",
          "text": [
            "Tails\n"
          ]
        }
      ]
    },
    {
      "cell_type": "code",
      "source": [],
      "metadata": {
        "id": "vhN5ITkfMVLU"
      },
      "execution_count": null,
      "outputs": []
    }
  ]
}