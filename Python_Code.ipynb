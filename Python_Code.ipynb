{
  "nbformat": 4,
  "nbformat_minor": 0,
  "metadata": {
    "colab": {
      "provenance": [],
      "authorship_tag": "ABX9TyPOJudbVildiN1/9vUJgHt/",
      "include_colab_link": true
    },
    "kernelspec": {
      "name": "python3",
      "display_name": "Python 3"
    },
    "language_info": {
      "name": "python"
    }
  },
  "cells": [
    {
      "cell_type": "markdown",
      "metadata": {
        "id": "view-in-github",
        "colab_type": "text"
      },
      "source": [
        "<a href=\"https://colab.research.google.com/github/nhasani92/Python_Projects/blob/main/Python_Code.ipynb\" target=\"_parent\"><img src=\"https://colab.research.google.com/assets/colab-badge.svg\" alt=\"Open In Colab\"/></a>"
      ]
    },
    {
      "cell_type": "markdown",
      "source": [
        "## Band Name Generator"
      ],
      "metadata": {
        "id": "ZbnMRGqP7tE7"
      }
    },
    {
      "cell_type": "code",
      "source": [
        "print(\"Welcome to the brand new genetor\")\n",
        "city = input(\"which city did you belong\\n\")\n",
        "print(city)\n",
        "pet = input(\"what is the name of pet\\n\")\n",
        "print(\"your band name could be\" \" \" + city + \" \" + pet)"
      ],
      "metadata": {
        "colab": {
          "base_uri": "https://localhost:8080/"
        },
        "id": "jXe8SCLW7p4b",
        "outputId": "32597787-6d9f-45bd-eed1-663547a593e5"
      },
      "execution_count": null,
      "outputs": [
        {
          "output_type": "stream",
          "name": "stdout",
          "text": [
            "Welcome to the brand new genetor\n",
            "which city did you belong\n",
            "Hyderabad\n",
            "Hyderabad\n",
            "what is the name of pet\n",
            "Enola\n",
            "your band name could be Hyderabad Enola\n"
          ]
        }
      ]
    },
    {
      "cell_type": "markdown",
      "source": [],
      "metadata": {
        "id": "LIZpJbqPof5S"
      }
    },
    {
      "cell_type": "code",
      "source": [
        "num_char = len(input(\"what is your name ?\"))\n",
        "new_num_char = str(num_char)\n",
        "print(type(len(input(\"what is your name ?\"))))"
      ],
      "metadata": {
        "colab": {
          "base_uri": "https://localhost:8080/"
        },
        "id": "kZGlTePN9p2h",
        "outputId": "97945e6f-0e6b-4fb1-e807-1e6f807c02f2"
      },
      "execution_count": null,
      "outputs": [
        {
          "output_type": "stream",
          "name": "stdout",
          "text": [
            "what is your name ?Nusrat\n",
            "what is your name ?Shadab\n",
            "<class 'int'>\n"
          ]
        }
      ]
    },
    {
      "cell_type": "markdown",
      "source": [
        "## Adds the digits in a 2 digit number"
      ],
      "metadata": {
        "id": "RzzdIlwKCSL5"
      }
    },
    {
      "cell_type": "code",
      "source": [
        "# 🚨 Don't change the code below 👇\n",
        "two_digit_number = input(\"Type a two digit number: \")\n",
        "# 🚨 Don't change the code above 👆\n",
        "\n",
        "####################################\n",
        "#Write your code below this line 👇\n",
        "first_digit = two_digit_number[0]\n",
        "second_digit = two_digit_number[1]\n",
        "result = int(first_digit) + int(second_digit)\n",
        "print(result)"
      ],
      "metadata": {
        "colab": {
          "base_uri": "https://localhost:8080/"
        },
        "id": "lEWkBtYeaE93",
        "outputId": "37a591ed-23a9-491b-854a-26507925d12a"
      },
      "execution_count": null,
      "outputs": [
        {
          "output_type": "stream",
          "name": "stdout",
          "text": [
            "Type a two digit number: 23\n",
            "5\n"
          ]
        }
      ]
    },
    {
      "cell_type": "code",
      "source": [
        "tdn = input(\"Give the number: \")\n",
        "f = tdn[0]\n",
        "s = tdn[1]\n",
        "r = int(f) + int(s)\n",
        "print(r)"
      ],
      "metadata": {
        "colab": {
          "base_uri": "https://localhost:8080/"
        },
        "id": "_BlU4Yc7a1ZG",
        "outputId": "a1a3baba-c3de-4834-e536-d571d528fb92"
      },
      "execution_count": null,
      "outputs": [
        {
          "output_type": "stream",
          "name": "stdout",
          "text": [
            "Give the number: 76\n",
            "13\n"
          ]
        }
      ]
    },
    {
      "cell_type": "markdown",
      "source": [
        "## Body Mass Index (BMI) from a user's weight and height."
      ],
      "metadata": {
        "id": "_aigq28doScR"
      }
    },
    {
      "cell_type": "code",
      "source": [
        "# 🚨 Don't change the code below 👇\n",
        "height = input(\"enter your height in m: \")\n",
        "weight = input(\"enter your weight in kg: \")\n",
        "# 🚨 Don't change the code above 👆\n",
        "\n",
        "#Write your code below this line 👇\n",
        "height_person = height[0]\n",
        "weight_person = weight[1]\n",
        "\n",
        "BMI = int(weight) / float(height) ** 2\n",
        "bmi_as_int = int(BMI)\n",
        "print(bmi_as_int)"
      ],
      "metadata": {
        "colab": {
          "base_uri": "https://localhost:8080/"
        },
        "id": "OreRepXPoYWd",
        "outputId": "d5435ebb-3731-4cc3-eb8c-5bf1c49e2132"
      },
      "execution_count": null,
      "outputs": [
        {
          "output_type": "stream",
          "name": "stdout",
          "text": [
            "enter your height in m: 1.89\n",
            "enter your weight in kg: 76\n",
            "21\n"
          ]
        }
      ]
    },
    {
      "cell_type": "code",
      "source": [
        "print (8 // 3)"
      ],
      "metadata": {
        "colab": {
          "base_uri": "https://localhost:8080/"
        },
        "id": "YgcsknjyosnX",
        "outputId": "4a3b9d5b-66d7-435d-cd98-f06f4438ce29"
      },
      "execution_count": null,
      "outputs": [
        {
          "output_type": "stream",
          "name": "stdout",
          "text": [
            "2\n"
          ]
        }
      ]
    },
    {
      "cell_type": "code",
      "source": [
        "print (type (4/2))"
      ],
      "metadata": {
        "colab": {
          "base_uri": "https://localhost:8080/"
        },
        "id": "OPz1os5C21n9",
        "outputId": "0f14591c-78d0-439e-cd07-77761159ed5e"
      },
      "execution_count": null,
      "outputs": [
        {
          "output_type": "stream",
          "name": "stdout",
          "text": [
            "<class 'float'>\n"
          ]
        }
      ]
    },
    {
      "cell_type": "code",
      "source": [
        "result = 4//2\n",
        "result //=2\n",
        "print(result)"
      ],
      "metadata": {
        "colab": {
          "base_uri": "https://localhost:8080/"
        },
        "id": "hE_9WjoD3egt",
        "outputId": "27728080-07ee-4852-fd59-4d3e0c14ca4b"
      },
      "execution_count": null,
      "outputs": [
        {
          "output_type": "stream",
          "name": "stdout",
          "text": [
            "1\n"
          ]
        }
      ]
    },
    {
      "cell_type": "code",
      "source": [],
      "metadata": {
        "id": "gQgIM03M4FYr"
      },
      "execution_count": null,
      "outputs": []
    },
    {
      "cell_type": "markdown",
      "source": [
        "## Use of f-String"
      ],
      "metadata": {
        "id": "cAehzY-hBgmz"
      }
    },
    {
      "cell_type": "code",
      "source": [
        "score = 0\n",
        "height = 1.8\n",
        "isWinning = True\n",
        "#f-String\n",
        "print(f\"your score is {score}, your score is {height}, you are winning is {isWinning}\")"
      ],
      "metadata": {
        "colab": {
          "base_uri": "https://localhost:8080/"
        },
        "id": "ViIcaHi1Bb_U",
        "outputId": "f8aa4aaa-6261-4673-adc8-2504a88be36d"
      },
      "execution_count": null,
      "outputs": [
        {
          "output_type": "stream",
          "name": "stdout",
          "text": [
            "your score is 0, your score is 1.8, you are winning is True\n"
          ]
        }
      ]
    },
    {
      "cell_type": "markdown",
      "source": [
        "### f-Strings that tells us how many days, weeks, months we have left if we live until 90 years old."
      ],
      "metadata": {
        "id": "o3Sq2dRKco5O"
      }
    },
    {
      "cell_type": "code",
      "source": [
        "# 🚨 Don't change the code below 👇\n",
        "age = input(\"What is your current age? \")\n",
        "# 🚨 Don't change the code above 👆\n",
        "\n",
        "#Write your code below this line 👇\n",
        "age_as_int = int(age)\n",
        "\n",
        "year_remaining = 90 - age_as_int\n",
        "days_remaining = year_remaining * 365\n",
        "weeks_remaining = year_remaining * 52\n",
        "months_remaining = year_remaining *12\n",
        "message = f\"You have {days_remaining} days, {weeks_remaining} weeks, and {months_remaining} months left\"\n",
        "print(message)"
      ],
      "metadata": {
        "colab": {
          "base_uri": "https://localhost:8080/"
        },
        "id": "fd8g5Gupcg6d",
        "outputId": "d2d9df86-780f-469a-ccb6-31f19a46c2db"
      },
      "execution_count": null,
      "outputs": [
        {
          "output_type": "stream",
          "name": "stdout",
          "text": [
            "What is your current age? 30\n",
            "You have 21900 days, 3120 weeks, and 720 months left\n"
          ]
        }
      ]
    },
    {
      "cell_type": "markdown",
      "source": [
        "### Project: Tip Calculator"
      ],
      "metadata": {
        "id": "i5Z_s6pz4zfY"
      }
    },
    {
      "cell_type": "code",
      "source": [
        "#If the bill was $150.00, split between 5 people, with 12% tip.\n",
        "\n",
        "#Each person should pay (150.00 / 5) * 1.12 = 33.6\n",
        "#Format the result to 2 decimal places = 33.60\n",
        "\n",
        "#Tip: There are 2 ways to round a number. You might have to do some Googling to solve this.💪\n",
        "\n",
        "#Write your code below this line 👇\n",
        "print(\"Welcome to the tip calculator!\")\n",
        "bill = float(input(\"What was the total bill? $\"))\n",
        "tip = int(input(\"How much tip would like to given? 10, 12, or 15\"))\n",
        "people = int(input(\"How many people to split the bill?\"))\n",
        "tip_as_percent = tip/100\n",
        "total_tip_amount = bill * tip_as_percent\n",
        "total_bill = bill + total_tip_amount\n",
        "bill_per_person = total_bill / people\n",
        "final_amount = round(bill_per_person, 2)\n",
        "print(f\"Each person should pay: ${final_amount}\")\n"
      ],
      "metadata": {
        "colab": {
          "base_uri": "https://localhost:8080/"
        },
        "id": "maLIgsPH47Ed",
        "outputId": "8fcc9e59-9b06-400a-eb2d-cdc5813a73bc"
      },
      "execution_count": 2,
      "outputs": [
        {
          "output_type": "stream",
          "name": "stdout",
          "text": [
            "Welcome to the tip calculator!\n",
            "What was the total bill? $567\n",
            "How much tip would like to given? 10, 12, or 1512\n",
            "How many people to split the bill?4\n",
            "Each person should pay: $158.76\n"
          ]
        }
      ]
    }
  ]
}