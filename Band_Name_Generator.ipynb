{
  "nbformat": 4,
  "nbformat_minor": 0,
  "metadata": {
    "colab": {
      "provenance": [],
      "authorship_tag": "ABX9TyO5lIq++cSLDPtNY0TYdEOk",
      "include_colab_link": true
    },
    "kernelspec": {
      "name": "python3",
      "display_name": "Python 3"
    },
    "language_info": {
      "name": "python"
    }
  },
  "cells": [
    {
      "cell_type": "markdown",
      "metadata": {
        "id": "view-in-github",
        "colab_type": "text"
      },
      "source": [
        "<a href=\"https://colab.research.google.com/github/nhasani92/Python_Projects/blob/main/Band_Name_Generator.ipynb\" target=\"_parent\"><img src=\"https://colab.research.google.com/assets/colab-badge.svg\" alt=\"Open In Colab\"/></a>"
      ]
    },
    {
      "cell_type": "markdown",
      "source": [
        "## Band Name Generator"
      ],
      "metadata": {
        "id": "ZbnMRGqP7tE7"
      }
    },
    {
      "cell_type": "code",
      "source": [
        "print(\"Welcome to the brand new genetor\")\n",
        "city = input(\"which city did you belong\\n\")\n",
        "print(city)\n",
        "pet = input(\"what is the name of pet\\n\")\n",
        "print(\"your band name could be\" \" \" + city + \" \" + pet)"
      ],
      "metadata": {
        "colab": {
          "base_uri": "https://localhost:8080/"
        },
        "id": "jXe8SCLW7p4b",
        "outputId": "32597787-6d9f-45bd-eed1-663547a593e5"
      },
      "execution_count": 7,
      "outputs": [
        {
          "output_type": "stream",
          "name": "stdout",
          "text": [
            "Welcome to the brand new genetor\n",
            "which city did you belong\n",
            "Hyderabad\n",
            "Hyderabad\n",
            "what is the name of pet\n",
            "Enola\n",
            "your band name could be Hyderabad Enola\n"
          ]
        }
      ]
    },
    {
      "cell_type": "code",
      "source": [],
      "metadata": {
        "id": "YAKjN_wA70xf"
      },
      "execution_count": null,
      "outputs": []
    }
  ]
}