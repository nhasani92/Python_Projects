{
  "nbformat": 4,
  "nbformat_minor": 0,
  "metadata": {
    "colab": {
      "provenance": [],
      "authorship_tag": "ABX9TyPgomcJjCfKEveCwr6JEbKb",
      "include_colab_link": true
    },
    "kernelspec": {
      "name": "python3",
      "display_name": "Python 3"
    },
    "language_info": {
      "name": "python"
    }
  },
  "cells": [
    {
      "cell_type": "markdown",
      "metadata": {
        "id": "view-in-github",
        "colab_type": "text"
      },
      "source": [
        "<a href=\"https://colab.research.google.com/github/nhasani92/Python_Projects/blob/main/Band_Name_Generator.ipynb\" target=\"_parent\"><img src=\"https://colab.research.google.com/assets/colab-badge.svg\" alt=\"Open In Colab\"/></a>"
      ]
    },
    {
      "cell_type": "markdown",
      "source": [
        "## Band Name Generator"
      ],
      "metadata": {
        "id": "ZbnMRGqP7tE7"
      }
    },
    {
      "cell_type": "code",
      "source": [
        "print(\"Welcome to the brand new genetor\")\n",
        "city = input(\"which city did you belong\\n\")\n",
        "print(city)\n",
        "pet = input(\"what is the name of pet\\n\")\n",
        "print(\"your band name could be\" \" \" + city + \" \" + pet)"
      ],
      "metadata": {
        "colab": {
          "base_uri": "https://localhost:8080/"
        },
        "id": "jXe8SCLW7p4b",
        "outputId": "32597787-6d9f-45bd-eed1-663547a593e5"
      },
      "execution_count": 7,
      "outputs": [
        {
          "output_type": "stream",
          "name": "stdout",
          "text": [
            "Welcome to the brand new genetor\n",
            "which city did you belong\n",
            "Hyderabad\n",
            "Hyderabad\n",
            "what is the name of pet\n",
            "Enola\n",
            "your band name could be Hyderabad Enola\n"
          ]
        }
      ]
    },
    {
      "cell_type": "code",
      "source": [
        "num_char = len(input(\"what is your name ?\"))\n",
        "new_num_char = str(num_char)\n",
        "print(type(len(input(\"what is your name ?\"))))"
      ],
      "metadata": {
        "colab": {
          "base_uri": "https://localhost:8080/"
        },
        "id": "kZGlTePN9p2h",
        "outputId": "97945e6f-0e6b-4fb1-e807-1e6f807c02f2"
      },
      "execution_count": 10,
      "outputs": [
        {
          "output_type": "stream",
          "name": "stdout",
          "text": [
            "what is your name ?Nusrat\n",
            "what is your name ?Shadab\n",
            "<class 'int'>\n"
          ]
        }
      ]
    },
    {
      "cell_type": "markdown",
      "source": [
        "## Adds the digits in a 2 digit number"
      ],
      "metadata": {
        "id": "RzzdIlwKCSL5"
      }
    },
    {
      "cell_type": "code",
      "source": [
        "# 🚨 Don't change the code below 👇\n",
        "two_digit_number = input(\"Type a two digit number: \")\n",
        "# 🚨 Don't change the code above 👆\n",
        "\n",
        "####################################\n",
        "#Write your code below this line 👇\n",
        "first_digit = two_digit_number[0]\n",
        "second_digit = two_digit_number[1]\n",
        "result = int(first_digit) + int(second_digit)\n",
        "print(result)"
      ],
      "metadata": {
        "colab": {
          "base_uri": "https://localhost:8080/"
        },
        "id": "lEWkBtYeaE93",
        "outputId": "37a591ed-23a9-491b-854a-26507925d12a"
      },
      "execution_count": 15,
      "outputs": [
        {
          "output_type": "stream",
          "name": "stdout",
          "text": [
            "Type a two digit number: 23\n",
            "5\n"
          ]
        }
      ]
    }
  ]
}