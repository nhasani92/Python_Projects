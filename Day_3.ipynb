{
  "nbformat": 4,
  "nbformat_minor": 0,
  "metadata": {
    "colab": {
      "provenance": [],
      "authorship_tag": "ABX9TyOZALMKg5uei92daY9++Lcb",
      "include_colab_link": true
    },
    "kernelspec": {
      "name": "python3",
      "display_name": "Python 3"
    },
    "language_info": {
      "name": "python"
    }
  },
  "cells": [
    {
      "cell_type": "markdown",
      "metadata": {
        "id": "view-in-github",
        "colab_type": "text"
      },
      "source": [
        "<a href=\"https://colab.research.google.com/github/nhasani92/Python_Projects/blob/main/Day_3.ipynb\" target=\"_parent\"><img src=\"https://colab.research.google.com/assets/colab-badge.svg\" alt=\"Open In Colab\"/></a>"
      ]
    },
    {
      "cell_type": "markdown",
      "source": [
        "## Control Flow with if/else and conditional operators"
      ],
      "metadata": {
        "id": "Nh823cQaD8yK"
      }
    },
    {
      "cell_type": "code",
      "source": [
        "print(\"Welcome to the rollercoaster!\")\n",
        "height = int(input(\"What is your height in cm? \"))\n",
        "\n",
        "if height > 120:\n",
        "  print(\"You can ride the rollercoaster!\")\n",
        "else:\n",
        "  print(\"Sorry, you have to grow taller before you can ride.\")"
      ],
      "metadata": {
        "colab": {
          "base_uri": "https://localhost:8080/"
        },
        "id": "acKcA9jUEJuC",
        "outputId": "92d987fa-434d-4aff-d5ac-2871232b85d1"
      },
      "execution_count": 2,
      "outputs": [
        {
          "output_type": "stream",
          "name": "stdout",
          "text": [
            "Welcome to the rollercoaster!\n",
            "What is your height in cm? 112\n",
            "Sorry, you have to grow taller before you can ride.\n"
          ]
        }
      ]
    },
    {
      "cell_type": "code",
      "source": [
        "print(\"Welcome to the rollercoaster!\")\n",
        "height = int(input(\"What is your height in cm? \"))\n",
        "\n",
        "if height == 120:\n",
        "  print(\"You can ride the rollercoaster!\")\n",
        "else:\n",
        "  print(\"Sorry, you have to grow taller before you can ride.\")"
      ],
      "metadata": {
        "colab": {
          "base_uri": "https://localhost:8080/"
        },
        "id": "w9AJNhQit4IT",
        "outputId": "038a46ba-d138-4648-913e-cb22c07d4827"
      },
      "execution_count": 4,
      "outputs": [
        {
          "output_type": "stream",
          "name": "stdout",
          "text": [
            "Welcome to the rollercoaster!\n",
            "What is your height in cm? 123\n",
            "Sorry, you have to grow taller before you can ride.\n"
          ]
        }
      ]
    },
    {
      "cell_type": "code",
      "source": [
        "# 🚨 Don't change the code below 👇\n",
        "number = int(input(\"Which number do you want to check? \"))\n",
        "# 🚨 Don't change the code above 👆\n",
        "\n",
        "#Write your code below this line 👇\n",
        "mod=number%2\n",
        "if mod>=1:\n",
        "    print(\"This is an odd number\")\n",
        "else:\n",
        "    print(\"This is an even number\")"
      ],
      "metadata": {
        "colab": {
          "base_uri": "https://localhost:8080/"
        },
        "id": "cZ6NcQekE2TN",
        "outputId": "d5067f7f-1805-400d-c14a-5cecebac68da"
      },
      "execution_count": 6,
      "outputs": [
        {
          "output_type": "stream",
          "name": "stdout",
          "text": [
            "Which number do you want to check? 56\n",
            "This is an even number\n"
          ]
        }
      ]
    },
    {
      "cell_type": "markdown",
      "source": [
        "# Body Mass Index (BMI) based on a user's weight and height.\n",
        "# BMI based on the BMI value.\n",
        "*   Under 18.5 they are underweight.\n",
        "*   Over 18.5 but below 25 they have a normal weight.\n",
        "*   Over 25 but below 30 they are slightly overweight.\n",
        "*   Over 30 but below 35 they are obese.\n",
        "*   Above 35 they are clinically obese.\n"
      ],
      "metadata": {
        "id": "60LiCxttBnZG"
      }
    },
    {
      "cell_type": "code",
      "source": [
        "# 🚨 Don't change the code below 👇\n",
        "height = float(input(\"enter your height in m: \"))\n",
        "weight = float(input(\"enter your weight in kg: \"))\n",
        "# 🚨 Don't change the code above 👆\n",
        "\n",
        "#Write your code below this line 👇\n",
        "bmi = round(weight / height ** 2)\n",
        "if bmi < 18.5:\n",
        "    print(f\"Your BMI is {bmi}, you are underweight.\")\n",
        "elif bmi <= 25:\n",
        "    print(f\"Your BMI is {bmi}, you are normalweight.\")\n",
        "elif bmi <= 30:\n",
        "    print(\"Your BMI is {bmi}, you are slighty overweight.\")\n",
        "elif bmi <= 35:\n",
        "    print(f\"Your BMI is {bmi} you are obese.\")\n",
        "else:\n",
        "    print(f\"Your BMI is {bmi}, you are clinically obese.\")"
      ],
      "metadata": {
        "colab": {
          "base_uri": "https://localhost:8080/"
        },
        "id": "AsqAiHxBBowY",
        "outputId": "8e4b162d-4c28-42ca-b875-64e68d5831a9"
      },
      "execution_count": 1,
      "outputs": [
        {
          "output_type": "stream",
          "name": "stdout",
          "text": [
            "enter your height in m: 1.7\n",
            "enter your weight in kg: 56\n",
            "Your BMI is 19, you are normalweight.\n"
          ]
        }
      ]
    },
    {
      "cell_type": "markdown",
      "source": [
        "# Whether if a given year is a leap year"
      ],
      "metadata": {
        "id": "vTLM-S_aJKEc"
      }
    },
    {
      "cell_type": "code",
      "source": [
        "# 🚨 Don't change the code below 👇\n",
        "year = int(input(\"Which year do you want to check? \"))\n",
        "# 🚨 Don't change the code above 👆\n",
        "\n",
        "#Write your code below this line 👇\n",
        "if year % 4 == 0:\n",
        "    print(\"Leap year\")\n",
        "elif year % 100 == 0:\n",
        "    print(\"Leap year\")\n",
        "elif year % 400 == 0:\n",
        "    print(\"Leap year\")\n",
        "else:\n",
        "    print(\"Not a Leap year\")"
      ],
      "metadata": {
        "colab": {
          "base_uri": "https://localhost:8080/"
        },
        "id": "bmO5XjO3JRJI",
        "outputId": "d2a28de1-3942-4008-ef44-df9283de2eff"
      },
      "execution_count": 2,
      "outputs": [
        {
          "output_type": "stream",
          "name": "stdout",
          "text": [
            "Which year do you want to check? 2006\n",
            "Not a Leap year\n"
          ]
        }
      ]
    },
    {
      "cell_type": "markdown",
      "source": [
        "### Multiple if statement"
      ],
      "metadata": {
        "id": "EyIikm6dA-L_"
      }
    },
    {
      "cell_type": "code",
      "source": [
        "print(\"Welcome to the rollercoaster!\")\n",
        "height = int(input(\"What is your height in cm ?\"))\n",
        "bill = 0\n",
        "if height >= 120:\n",
        "  print(\"You can ride the rollercoaster!\")\n",
        "  age = int(input(\"What is your age ?\"))\n",
        "  if age < 12:\n",
        "    bill = 5\n",
        "    print(\"Child ticket are $5.\")\n",
        "  elif age <= 18:\n",
        "    bill = 7\n",
        "    print(\"Child ticket are $7.\")\n",
        "  else:\n",
        "    bill = 12\n",
        "    print(\"Adult ticket are $12.\")\n",
        "  want_photo = input(\"Do you want a photo taken? Y or N.\")\n",
        "  if want_photo == \"Y\":\n",
        "    bill +=3\n",
        "  print(f\"Your final bill is ${bill}\")\n",
        "else:\n",
        "  print(\"Sorry you have to grow taller before you can ride\")\n"
      ],
      "metadata": {
        "colab": {
          "base_uri": "https://localhost:8080/"
        },
        "id": "WluEqaA4BBhk",
        "outputId": "58edb78c-553e-4096-8bd2-ffea0b83ea67"
      },
      "execution_count": 2,
      "outputs": [
        {
          "output_type": "stream",
          "name": "stdout",
          "text": [
            "Welcome to the rollercoaster!\n",
            "What is your height in cm ?145\n",
            "You can ride the rollercoaster!\n",
            "What is your age ?34\n",
            "Adult ticket are $12.\n",
            "Do you want a photo taken? Y or N.Y\n",
            "Your final bill is $15\n"
          ]
        }
      ]
    },
    {
      "cell_type": "markdown",
      "source": [
        "## Automatic pizza order program."
      ],
      "metadata": {
        "id": "bClc1ZuYJnAv"
      }
    },
    {
      "cell_type": "code",
      "source": [
        "# 🚨 Don't change the code below 👇\n",
        "print(\"Welcome to Python Pizza Deliveries!\")\n",
        "size = input(\"What size pizza do you want? S, M, or L \")\n",
        "add_pepperoni = input(\"Do you want pepperoni? Y or N \")\n",
        "extra_cheese = input(\"Do you want extra cheese? Y or N \")\n",
        "# 🚨 Don't change the code above 👆\n",
        "\n",
        "#Write your code below this line 👇\n",
        "bill = 0\n",
        "if size == \"S\":\n",
        "    bill += 15\n",
        "elif size == \"M\":\n",
        "    bill += 20\n",
        "else:\n",
        "    bill += 25\n",
        "\n",
        "if add_pepperoni == \"Y\":\n",
        "    if size == \"S\":\n",
        "        bill += 2\n",
        "    else:\n",
        "        bill += 3\n",
        "if extra_cheese == \"Y\":\n",
        "    bill += 1\n",
        "\n",
        "print(f\"Your final bill is ${bill}\")"
      ],
      "metadata": {
        "colab": {
          "base_uri": "https://localhost:8080/"
        },
        "id": "TwBKpbp7JpUe",
        "outputId": "d5705622-28b7-400f-9161-e43a91533a95"
      },
      "execution_count": 3,
      "outputs": [
        {
          "output_type": "stream",
          "name": "stdout",
          "text": [
            "Welcome to Python Pizza Deliveries!\n",
            "What size pizza do you want? S, M, or L S\n",
            "Do you want pepperoni? Y or N Y\n",
            "Do you want extra cheese? Y or N N\n",
            "Your final bill is $17\n"
          ]
        }
      ]
    }
  ]
}