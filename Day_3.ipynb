{
  "nbformat": 4,
  "nbformat_minor": 0,
  "metadata": {
    "colab": {
      "provenance": [],
      "authorship_tag": "ABX9TyN7KfmmrpirUz1NT2bN70ct",
      "include_colab_link": true
    },
    "kernelspec": {
      "name": "python3",
      "display_name": "Python 3"
    },
    "language_info": {
      "name": "python"
    }
  },
  "cells": [
    {
      "cell_type": "markdown",
      "metadata": {
        "id": "view-in-github",
        "colab_type": "text"
      },
      "source": [
        "<a href=\"https://colab.research.google.com/github/nhasani92/Python_Projects/blob/main/Day_3.ipynb\" target=\"_parent\"><img src=\"https://colab.research.google.com/assets/colab-badge.svg\" alt=\"Open In Colab\"/></a>"
      ]
    },
    {
      "cell_type": "markdown",
      "source": [
        "## Control Flow with if/else and conditional operators"
      ],
      "metadata": {
        "id": "Nh823cQaD8yK"
      }
    },
    {
      "cell_type": "code",
      "source": [
        "print(\"Welcome to the rollercoaster!\")\n",
        "height = int(input(\"What is your height in cm? \"))\n",
        "\n",
        "if height > 120:\n",
        "  print(\"You can ride the rollercoaster!\")\n",
        "else:\n",
        "  print(\"Sorry, you have to grow taller before you can ride.\")"
      ],
      "metadata": {
        "colab": {
          "base_uri": "https://localhost:8080/"
        },
        "id": "acKcA9jUEJuC",
        "outputId": "92d987fa-434d-4aff-d5ac-2871232b85d1"
      },
      "execution_count": 2,
      "outputs": [
        {
          "output_type": "stream",
          "name": "stdout",
          "text": [
            "Welcome to the rollercoaster!\n",
            "What is your height in cm? 112\n",
            "Sorry, you have to grow taller before you can ride.\n"
          ]
        }
      ]
    }
  ]
}